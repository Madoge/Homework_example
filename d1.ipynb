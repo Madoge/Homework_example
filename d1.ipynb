{
 "cells": [
  {
   "cell_type": "markdown",
   "metadata": {},
   "source": [
    "# import 模块名[as 别名]\n",
    "### 使用时需要在对象之前加上模块名作为前缀，即“模块名.对象名"
   ]
  },
  {
   "cell_type": "code",
   "execution_count": 1,
   "metadata": {},
   "outputs": [],
   "source": [
    "import math\n",
    "import random\n",
    "import posixpath as path"
   ]
  },
  {
   "cell_type": "code",
   "execution_count": 10,
   "metadata": {
    "scrolled": true
   },
   "outputs": [
    {
     "name": "stdout",
     "output_type": "stream",
     "text": [
      "4.0\n",
      "0.7071067811865476\n",
      "['d', 'd', 'c', 'c', 'c', 'd', 'a', 'd']\n",
      "True\n"
     ]
    }
   ],
   "source": [
    "print(math.sqrt(16))  #计算并输出16的平方根\n",
    "print(math.cos(math.pi/4))  #计算余弦值\n",
    "print(random.choices('abcd', k=8)) #从字符串'abcd'随机选择8个字符允许重复\n",
    "print(path.isfile(r'/home/ousiniba/Desktop/xuechao/Unit2.ipynb'))   #测试制定路径是否为文件"
   ]
  },
  {
   "cell_type": "markdown",
   "metadata": {},
   "source": [
    "# from 模块名 import 对象名[as 别名]\n",
    "### 不需要模块对象作为前缀，导入方式可以减少查询次数，提高访问速度。"
   ]
  },
  {
   "cell_type": "code",
   "execution_count": 11,
   "metadata": {},
   "outputs": [],
   "source": [
    "from math import pi as PI\n",
    "from os.path import getsize\n",
    "from random import choice"
   ]
  },
  {
   "cell_type": "code",
   "execution_count": 12,
   "metadata": {},
   "outputs": [
    {
     "name": "stdout",
     "output_type": "stream",
     "text": [
      "28.27\n",
      "22603\n",
      "n\n"
     ]
    }
   ],
   "source": [
    "r=3\n",
    "print(round(PI*r*r, 2)) #计算半径为3的圆面积\n",
    "print(getsize(r'/home/ousiniba/Desktop/xuechao/Unit2.ipynb')) #计算文件大小，单位为字节\n",
    "print(choice('Python')) #从字符串中随机选择一个字符"
   ]
  },
  {
   "cell_type": "markdown",
   "metadata": {},
   "source": [
    "# from 模块名 import *\n",
    "### 不推荐使用"
   ]
  },
  {
   "cell_type": "code",
   "execution_count": 13,
   "metadata": {},
   "outputs": [],
   "source": [
    "from itertools import *"
   ]
  },
  {
   "cell_type": "code",
   "execution_count": 15,
   "metadata": {},
   "outputs": [
    {
     "name": "stdout",
     "output_type": "stream",
     "text": [
      "('1', '2', '3')('1', '2', '4')('1', '3', '4')('2', '3', '4')\n",
      "====================\n",
      "('1', '2', '3')('1', '2', '4')('1', '3', '2')('1', '3', '4')('1', '4', '2')('1', '4', '3')('2', '1', '3')('2', '1', '4')('2', '3', '1')('2', '3', '4')('2', '4', '1')('2', '4', '3')('3', '1', '2')('3', '1', '4')('3', '2', '1')('3', '2', '4')('3', '4', '1')('3', '4', '2')('4', '1', '2')('4', '1', '3')('4', '2', '1')('4', '2', '3')('4', '3', '1')('4', '3', '2')"
     ]
    }
   ],
   "source": [
    "characters = '1234'\n",
    "for item in combinations(characters, 3):  #从4个字符串中任选3个组合\n",
    "    print(item,end='')   #end=''表示输出后不换行\n",
    "print('\\n'+'='*20)   #行号后输出20个等于号\n",
    "for item in permutations(characters, 3):  #从4个字符中任选3个的排列\n",
    "    print(item, end='')"
   ]
  },
  {
   "cell_type": "code",
   "execution_count": null,
   "metadata": {},
   "outputs": [],
   "source": []
  }
 ],
 "metadata": {
  "kernelspec": {
   "display_name": "Python 3",
   "language": "python",
   "name": "python3"
  },
  "language_info": {
   "codemirror_mode": {
    "name": "ipython",
    "version": 3
   },
   "file_extension": ".py",
   "mimetype": "text/x-python",
   "name": "python",
   "nbconvert_exporter": "python",
   "pygments_lexer": "ipython3",
   "version": "3.7.4"
  }
 },
 "nbformat": 4,
 "nbformat_minor": 2
}
