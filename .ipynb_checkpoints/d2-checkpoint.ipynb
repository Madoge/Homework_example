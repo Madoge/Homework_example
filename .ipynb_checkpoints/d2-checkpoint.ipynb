{
 "cells": [
  {
   "cell_type": "markdown",
   "metadata": {},
   "source": [
    "# 1.数据类型\n",
    "### 数字、列表、元组、字典、集合、字符串\n",
    "# 2.运算符\n",
    "### 算术、关系、逻辑、成员运算符"
   ]
  },
  {
   "cell_type": "markdown",
   "metadata": {},
   "source": [
    "# Python常用数据类型\n",
    "### 在Python中变量不直接存储值，还是存储值的内存地址或引用。\n",
    "### 在Python中，不需要事先声明变量名及其类型，使用赋值语句可以直接创建任意类型的变量，变量的类型取决于等号右侧表达式值的类型。\n",
    "### 赋值（比如a=ABC\"）时，Python解释器干了两件事：\n",
    "####          在内存中创建一个'ABC'的字符串\n",
    "####          在内存中创建一个名为a的变量，并把它指向'ABC'"
   ]
  },
  {
   "cell_type": "markdown",
   "metadata": {},
   "source": [
    "## Python的核心数据类型\n",
    "### Number（数字）\n",
    "#### Python支持int，float，complex三种不同的数字类型"
   ]
  },
  {
   "cell_type": "code",
   "execution_count": 1,
   "metadata": {},
   "outputs": [
    {
     "name": "stdout",
     "output_type": "stream",
     "text": [
      "<class 'int'> <class 'float'> <class 'complex'>\n"
     ]
    }
   ],
   "source": [
    "a = 3\n",
    "b = 3.14\n",
    "c = 3+4j\n",
    "print(type(a),type(b),type(c))"
   ]
  },
  {
   "cell_type": "code",
   "execution_count": 2,
   "metadata": {},
   "outputs": [
    {
     "data": {
      "text/plain": [
       "True"
      ]
     },
     "execution_count": 2,
     "metadata": {},
     "output_type": "execute_result"
    }
   ],
   "source": [
    "isinstance(a,int)"
   ]
  },
  {
   "cell_type": "markdown",
   "metadata": {},
   "source": [
    "### Number(数字)示例代码 "
   ]
  },
  {
   "cell_type": "code",
   "execution_count": 4,
   "metadata": {},
   "outputs": [
    {
     "name": "stdout",
     "output_type": "stream",
     "text": [
      "263130836933693530167218012160000000\n",
      "False\n",
      "True\n",
      "0.10000000000000003\n",
      "(6+8j)\n",
      "3.0\n",
      "4.0\n",
      "7.0\n"
     ]
    }
   ],
   "source": [
    "import math\n",
    "print(math.factorial(32))       #计算32的阶乘\n",
    "print(0.4-0.3 == 0.1)           #实数之间尽量避免直接比较大小\n",
    "print(math.isclose(0.4-0.3,0.1)) #测试两个实数是否足够接近\n",
    "\n",
    "print(0.4-0.3)                  #存在误差\n",
    "\n",
    "c = 3+4j                        #Python内置支持复数及其运算\n",
    "print(c+c)                      #复数相加\n",
    "print(c.real)                   #查看复数的实部\n",
    "print(c.imag)                   #查看复数的虚部\n",
    "print(3+4j.imag)                #相当于3+(4j).imag"
   ]
  },
  {
   "cell_type": "markdown",
   "metadata": {},
   "source": [
    "## String（字符串）\n",
    "#### Python中的字符串可以使用单引号、双引号和三引号（三个单引号或三个双引号）括起来，使用反斜杠转译特殊字符\n",
    "#### Python3源码文件默认以UTF-8编码，所有字符串都是Unicode字符串\n",
    "#### 支持字符串拼接、截取等多种运算"
   ]
  },
  {
   "cell_type": "code",
   "execution_count": 5,
   "metadata": {},
   "outputs": [
    {
     "name": "stdout",
     "output_type": "stream",
     "text": [
      "a+b输出结果： HelloPython\n",
      "a[1:4]输出结果： ell\n"
     ]
    }
   ],
   "source": [
    "a = \"Hello\"\n",
    "b = \"Python\"\n",
    "print(\"a+b输出结果：\", a+b)\n",
    "print(\"a[1:4]输出结果：\",a[1:4])"
   ]
  },
  {
   "cell_type": "code",
   "execution_count": 7,
   "metadata": {},
   "outputs": [
    {
     "name": "stdout",
     "output_type": "stream",
     "text": [
      "222\n",
      "5\n",
      "False\n",
      "====================\n",
      "GoodMoring\n"
     ]
    }
   ],
   "source": [
    "#String(字符串)示例代码\n",
    "text = '''Beautiful is better than ugly.\n",
    "          Explicit is better than implicit.\n",
    "          Simple is better than complex.\n",
    "          Flat is better than nested.\n",
    "          Sparse is better than dense.\n",
    "          Readability counts.'''\n",
    "print(len(text))       #字符串长度，即所有字符的数量\n",
    "print(text.count('is')) #字符串中单词is出现的次数\n",
    "print('beautiful' in text) #测试字符串中是否包含单词beautiful\n",
    "print('='*20)          #字符串重复\n",
    "print('Good'+'Moring') #字符串连接"
   ]
  },
  {
   "cell_type": "code",
   "execution_count": null,
   "metadata": {},
   "outputs": [],
   "source": []
  }
 ],
 "metadata": {
  "kernelspec": {
   "display_name": "Python 3",
   "language": "python",
   "name": "python3"
  },
  "language_info": {
   "codemirror_mode": {
    "name": "ipython",
    "version": 3
   },
   "file_extension": ".py",
   "mimetype": "text/x-python",
   "name": "python",
   "nbconvert_exporter": "python",
   "pygments_lexer": "ipython3",
   "version": "3.7.5"
  }
 },
 "nbformat": 4,
 "nbformat_minor": 2
}
